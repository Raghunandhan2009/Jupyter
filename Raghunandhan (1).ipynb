{
  "metadata": {
    "language_info": {
      "codemirror_mode": {
        "name": "python",
        "version": 3
      },
      "file_extension": ".py",
      "mimetype": "text/x-python",
      "name": "python",
      "nbconvert_exporter": "python",
      "pygments_lexer": "ipython3",
      "version": "3.8"
    },
    "kernelspec": {
      "name": "python",
      "display_name": "Pyolite",
      "language": "python"
    }
  },
  "nbformat_minor": 4,
  "nbformat": 4,
  "cells": [
    {
      "cell_type": "markdown",
      "source": "# My Jupyter Notebook on IBM Watson Studio\n",
      "metadata": {}
    },
    {
      "cell_type": "markdown",
      "source": "__Raghunandhan S__\n",
      "metadata": {}
    },
    {
      "cell_type": "markdown",
      "source": "High School Student\n",
      "metadata": {}
    },
    {
      "cell_type": "markdown",
      "source": "_I am interested in Data Science because it is in trend and it is even interesting.I am gaining a lot of knowledge about Data And Technology. Hence i Like it._",
      "metadata": {}
    },
    {
      "cell_type": "markdown",
      "source": "### The line below is going to perfom a Arthmetic Operation.\n",
      "metadata": {}
    },
    {
      "cell_type": "code",
      "source": "x = 5\ny = 10\n\nprint(x + y)\n",
      "metadata": {
        "trusted": true
      },
      "execution_count": 10,
      "outputs": [
        {
          "name": "stdout",
          "text": "15\n",
          "output_type": "stream"
        }
      ]
    },
    {
      "cell_type": "markdown",
      "source": "1. Horizontal Rule\n",
      "metadata": {}
    },
    {
      "cell_type": "markdown",
      "source": "Hello\n\n****\n\nHI\n\n****",
      "metadata": {}
    },
    {
      "cell_type": "markdown",
      "source": "2. Link\n",
      "metadata": {}
    },
    {
      "cell_type": "markdown",
      "source": "[Google](www.google.com)",
      "metadata": {}
    },
    {
      "cell_type": "code",
      "source": "",
      "metadata": {},
      "execution_count": null,
      "outputs": []
    }
  ]
}